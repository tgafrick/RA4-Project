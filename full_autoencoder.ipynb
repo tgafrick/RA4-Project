{
 "cells": [
  {
   "cell_type": "code",
   "execution_count": 23,
   "metadata": {},
   "outputs": [
    {
     "name": "stdout",
     "output_type": "stream",
     "text": [
      "Absolute minimum pixel value: -3783\n",
      "Absolute maximum pixel value: 4051\n",
      "Average minimum pixel value: -1307.2987012987012\n",
      "Average maximum pixel value: 3306.935064935065\n"
     ]
    }
   ],
   "source": [
    "import os\n",
    "import numpy as np\n",
    "import nrrd\n",
    "\n",
    "# Folder containing the NRRD files\n",
    "folder_path = \"Y:/E-Masks-Analyses-&Vida/77Images&Labels/ALLDATASAMEGEOMETRY\"\n",
    "\n",
    "# Initialize variables to hold min and max pixel values and count of files\n",
    "absolute_min = float('inf')\n",
    "absolute_max = float('-inf')\n",
    "total_min = 0\n",
    "total_max = 0\n",
    "file_count = 0\n",
    "\n",
    "# Loop through all files in the folder\n",
    "for filename in os.listdir(folder_path):\n",
    "    # Check if the file is a Vx3 NRRD file\n",
    "    if filename.startswith(\"Case_\") and filename.endswith(\"_Vx3.nrrd\"):\n",
    "        file_path = os.path.join(folder_path, filename)\n",
    "        \n",
    "        # Read the NRRD image\n",
    "        data, header = nrrd.read(file_path)\n",
    "        \n",
    "        # Get the minimum and maximum pixel values for this image\n",
    "        min_value = np.min(data)\n",
    "        max_value = np.max(data)\n",
    "        \n",
    "        # Update absolute min and max values if needed\n",
    "        absolute_min = min(absolute_min, min_value)\n",
    "        absolute_max = max(absolute_max, max_value)\n",
    "        \n",
    "        # Update total min and max values for average calculation\n",
    "        total_min += min_value\n",
    "        total_max += max_value\n",
    "        \n",
    "        # Increment the file count\n",
    "        file_count += 1\n",
    "\n",
    "# Calculate average min and max values\n",
    "average_min = total_min / file_count\n",
    "average_max = total_max / file_count\n",
    "\n",
    "# Print the results\n",
    "print(\"Absolute minimum pixel value:\", absolute_min)\n",
    "print(\"Absolute maximum pixel value:\", absolute_max)\n",
    "print(\"Average minimum pixel value:\", average_min)\n",
    "print(\"Average maximum pixel value:\", average_max)"
   ]
  }
 ],
 "metadata": {
  "kernelspec": {
   "display_name": "venv",
   "language": "python",
   "name": "python3"
  },
  "language_info": {
   "codemirror_mode": {
    "name": "ipython",
    "version": 3
   },
   "file_extension": ".py",
   "mimetype": "text/x-python",
   "name": "python",
   "nbconvert_exporter": "python",
   "pygments_lexer": "ipython3",
   "version": "3.11.8"
  }
 },
 "nbformat": 4,
 "nbformat_minor": 2
}
