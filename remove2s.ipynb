{
 "cells": [
  {
   "cell_type": "code",
   "execution_count": 12,
   "metadata": {},
   "outputs": [
    {
     "name": "stdout",
     "output_type": "stream",
     "text": [
      "Case_18_Label.nrrd processed and copied to ./images/Validation\\Case_18_Label_OnlyA.nrrd.\n",
      "Case_19_Label.nrrd processed and copied to ./images/Validation\\Case_19_Label_OnlyA.nrrd.\n",
      "Case_20_Label.nrrd processed and copied to ./images/Validation\\Case_20_Label_OnlyA.nrrd.\n",
      "Case_21_Label.nrrd processed and copied to ./images/Validation\\Case_21_Label_OnlyA.nrrd.\n",
      "Case_22_Label.nrrd processed and copied to ./images/Validation\\Case_22_Label_OnlyA.nrrd.\n",
      "Case_23_Label.nrrd processed and copied to ./images/Validation\\Case_23_Label_OnlyA.nrrd.\n",
      "Case_24_Label.nrrd processed and copied to ./images/Validation\\Case_24_Label_OnlyA.nrrd.\n",
      "Case_27_Label.nrrd processed and copied to ./images/Validation\\Case_27_Label_OnlyA.nrrd.\n",
      "Case_28_Label.nrrd processed and copied to ./images/Validation\\Case_28_Label_OnlyA.nrrd.\n",
      "Case_29_Label.nrrd processed and copied to ./images/Validation\\Case_29_Label_OnlyA.nrrd.\n",
      "Case_30_Label.nrrd processed and copied to ./images/Validation\\Case_30_Label_OnlyA.nrrd.\n",
      "Case_32_Label.nrrd processed and copied to ./images/Validation\\Case_32_Label_OnlyA.nrrd.\n",
      "Case_34_Label.nrrd processed and copied to ./images/Validation\\Case_34_Label_OnlyA.nrrd.\n",
      "Case_36_Label.nrrd processed and copied to ./images/Validation\\Case_36_Label_OnlyA.nrrd.\n",
      "Case_37_Label.nrrd processed and copied to ./images/Validation\\Case_37_Label_OnlyA.nrrd.\n"
     ]
    }
   ],
   "source": [
    "import numpy as np\n",
    "import nrrd\n",
    "import os\n",
    "import shutil\n",
    "\n",
    "# Define your source directory containing NRRD files\n",
    "source_dir = \"./images/TempLabelsFullAV_Val\"\n",
    "\n",
    "# Define your destination directory for modified NRRD files\n",
    "destination_dir = \"./images/Validation\"\n",
    "\n",
    "# Create the destination directory if it doesn't exist\n",
    "if not os.path.exists(destination_dir):\n",
    "    os.makedirs(destination_dir)\n",
    "\n",
    "# Iterate through each NRRD file in the source directory\n",
    "for filename in os.listdir(source_dir):\n",
    "    if filename.endswith(\".nrrd\"):\n",
    "        # Read the NRRD file\n",
    "        source_file_path = os.path.join(source_dir, filename)\n",
    "        data, header = nrrd.read(source_file_path)\n",
    "        \n",
    "        # Replace all values of 2 with 0\n",
    "        data[data == 2] = 0\n",
    "        \n",
    "        # Construct the new file path in the destination directory\n",
    "        destination_file_path = os.path.join(destination_dir, filename)\n",
    "        \n",
    "        # Save the modified NRRD file to the destination directory\n",
    "        nrrd.write(destination_file_path, data, header)\n",
    "        \n",
    "        # Rename the file in the destination directory\n",
    "        new_filename = filename.replace(\"_Label.nrrd\", \"_Label_OnlyA.nrrd\")\n",
    "        new_destination_file_path = os.path.join(destination_dir, new_filename)\n",
    "        os.rename(destination_file_path, new_destination_file_path)\n",
    "        \n",
    "        print(f\"{filename} processed and copied to {new_destination_file_path}.\")"
   ]
  }
 ],
 "metadata": {
  "kernelspec": {
   "display_name": "venv",
   "language": "python",
   "name": "python3"
  },
  "language_info": {
   "codemirror_mode": {
    "name": "ipython",
    "version": 3
   },
   "file_extension": ".py",
   "mimetype": "text/x-python",
   "name": "python",
   "nbconvert_exporter": "python",
   "pygments_lexer": "ipython3",
   "version": "3.11.8"
  }
 },
 "nbformat": 4,
 "nbformat_minor": 2
}
